{
  "nbformat": 4,
  "nbformat_minor": 0,
  "metadata": {
    "colab": {
      "provenance": [],
      "gpuType": "T4",
      "authorship_tag": "ABX9TyNpOTYIl/TcXQ3W8+Z4rZQu",
      "include_colab_link": true
    },
    "kernelspec": {
      "name": "python3",
      "display_name": "Python 3"
    },
    "language_info": {
      "name": "python"
    },
    "accelerator": "GPU"
  },
  "cells": [
    {
      "cell_type": "markdown",
      "metadata": {
        "id": "view-in-github",
        "colab_type": "text"
      },
      "source": [
        "<a href=\"https://colab.research.google.com/github/Shin-mat/Google-Colab/blob/main/distil_whisper.ipynb\" target=\"_parent\"><img src=\"https://colab.research.google.com/assets/colab-badge.svg\" alt=\"Open In Colab\"/></a>"
      ]
    },
    {
      "cell_type": "code",
      "source": [
        "!pip install --upgrade pip\n",
        "!pip install --upgrade git+https://github.com/huggingface/transformers.git accelerate datasets[audio]"
      ],
      "metadata": {
        "id": "vp1H4SEg7EWn"
      },
      "execution_count": null,
      "outputs": []
    },
    {
      "cell_type": "code",
      "source": [
        "import torch\n",
        "from transformers import AutoModelForSpeechSeq2Seq, AutoProcessor, pipeline\n",
        "from datasets import load_dataset\n",
        "\n",
        "device = \"cuda:0\" if torch.cuda.is_available() else \"cpu\"\n",
        "torch_dtype = torch.float16 if torch.cuda.is_available() else torch.float32\n",
        "\n",
        "model_id = \"openai/whisper-large-v3\"\n",
        "\n",
        "model = AutoModelForSpeechSeq2Seq.from_pretrained(\n",
        "    model_id, torch_dtype=torch_dtype, low_cpu_mem_usage=True, use_safetensors=True\n",
        ")\n",
        "model.to(device)\n",
        "\n",
        "processor = AutoProcessor.from_pretrained(model_id)\n",
        "\n",
        "# Add new tokens to the tokenizer\n",
        "new_tokens = [\"new_token\"]  # replace with your new tokens\n",
        "added_tokens = processor.tokenizer.add_tokens(new_tokens)\n",
        "\n",
        "# Resize the token embeddings of the model\n",
        "model.resize_token_embeddings(len(processor.tokenizer))\n",
        "\n",
        "pipe = pipeline(\n",
        "    \"automatic-speech-recognition\",\n",
        "    model=model,\n",
        "    tokenizer=processor.tokenizer,\n",
        "    feature_extractor=processor.feature_extractor,\n",
        "    max_new_tokens=128,\n",
        "    chunk_length_s=30,\n",
        "    batch_size=16,\n",
        "    return_timestamps=True,\n",
        "    torch_dtype=torch_dtype,\n",
        "    device=0 if torch.cuda.is_available() else -1\n",
        ")\n",
        "\n",
        "import subprocess\n",
        "\n",
        "# Path of input file\n",
        "input_file = \"XXX.m4a\"\n",
        "# Path of output file\n",
        "output_file = \"XXX.wav\"\n",
        "\n",
        "# Converting audio files with ffmpeg\n",
        "subprocess.run([\"ffmpeg\", \"-i\", input_file, output_file])\n",
        "\n",
        "result = pipe(output_file)  # Corrected this line\n",
        "print(result[\"text\"])\n",
        "with open('output.txt', 'w', encoding='utf-8') as f:\n",
        "    f.write(result[\"text\"])"
      ],
      "metadata": {
        "id": "6Xz6gWDu7NhQ"
      },
      "execution_count": null,
      "outputs": []
    }
  ]
}